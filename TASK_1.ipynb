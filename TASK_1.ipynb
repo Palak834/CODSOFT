{
 "cells": [
  {
   "cell_type": "markdown",
   "id": "335f3a9f",
   "metadata": {},
   "source": [
    "# MOVIE GENRE CLASSIFICATION"
   ]
  },
  {
   "cell_type": "markdown",
   "id": "c4f5396e",
   "metadata": {},
   "source": [
    "### IMPORTING LIBRARIES"
   ]
  },
  {
   "cell_type": "code",
   "execution_count": 1,
   "id": "50c97d33",
   "metadata": {},
   "outputs": [],
   "source": [
    "import pandas as pd\n",
    "import numpy as np\n",
    "import seaborn as sns\n",
    "import matplotlib.pyplot as plt\n",
    "import re  # for pattern matching and text manipulation."
   ]
  },
  {
   "cell_type": "code",
   "execution_count": 2,
   "id": "bf0d3fd2",
   "metadata": {},
   "outputs": [],
   "source": [
    "import string \n",
    "import nltk \n",
    "from sklearn.preprocessing import LabelEncoder\n",
    "from nltk.corpus import stopwords \n",
    "from nltk.tokenize import word_tokenize\n",
    "from nltk.stem import PorterStemmer, WordNetLemmatizer"
   ]
  },
  {
   "cell_type": "code",
   "execution_count": 3,
   "id": "eb4ef630",
   "metadata": {},
   "outputs": [],
   "source": [
    "from sklearn.feature_extraction.text import CountVectorizer as CV\n",
    "from sklearn.feature_extraction.text import TfidfVectorizer\n",
    "from sklearn.svm import SVC\n",
    "from sklearn.linear_model import LogisticRegression\n",
    "from sklearn.tree import DecisionTreeClassifier\n",
    "from sklearn.ensemble import RandomForestClassifier\n",
    "from sklearn.naive_bayes import MultinomialNB\n",
    "from sklearn.metrics import accuracy_score\n",
    "from sklearn.metrics import classification_report, confusion_matrix\n",
    "from sklearn.model_selection import train_test_split \n",
    "from sklearn.metrics import accuracy_score "
   ]
  },
  {
   "cell_type": "code",
   "execution_count": 4,
   "id": "7d3e05ee",
   "metadata": {},
   "outputs": [
    {
     "name": "stderr",
     "output_type": "stream",
     "text": [
      "[nltk_data] Downloading package stopwords to C:\\Users\\lenovo\n",
      "[nltk_data]     laptop\\AppData\\Roaming\\nltk_data...\n",
      "[nltk_data]   Package stopwords is already up-to-date!\n",
      "[nltk_data] Downloading package punkt to C:\\Users\\lenovo\n",
      "[nltk_data]     laptop\\AppData\\Roaming\\nltk_data...\n",
      "[nltk_data]   Package punkt is already up-to-date!\n"
     ]
    },
    {
     "data": {
      "text/plain": [
       "True"
      ]
     },
     "execution_count": 4,
     "metadata": {},
     "output_type": "execute_result"
    }
   ],
   "source": [
    "nltk.download('stopwords')\n",
    "nltk.download('punkt')"
   ]
  },
  {
   "cell_type": "code",
   "execution_count": 5,
   "id": "80376796",
   "metadata": {},
   "outputs": [],
   "source": [
    "import warnings\n",
    "warnings.filterwarnings('ignore')"
   ]
  },
  {
   "cell_type": "markdown",
   "id": "0a310963",
   "metadata": {},
   "source": [
    "### LOAD DATA"
   ]
  },
  {
   "cell_type": "code",
   "execution_count": 6,
   "id": "35311970",
   "metadata": {},
   "outputs": [],
   "source": [
    "train_data = pd.read_csv(\"C:/Users/lenovo laptop/Downloads/train_data.txt\", sep=':::', names=[\"title\", \"genre\", \"description\"], engine='python')\n",
    "test_data = pd.read_csv(\"C:/Users/lenovo laptop/Downloads/test_data.txt\", sep=':::', names=[\"title\", \"description\"], engine='python')"
   ]
  },
  {
   "cell_type": "markdown",
   "id": "bb515ca5",
   "metadata": {},
   "source": [
    "### DATA PREPROCESSING"
   ]
  },
  {
   "cell_type": "code",
   "execution_count": 7,
   "id": "5bfe86fa",
   "metadata": {},
   "outputs": [
    {
     "data": {
      "text/html": [
       "<div>\n",
       "<style scoped>\n",
       "    .dataframe tbody tr th:only-of-type {\n",
       "        vertical-align: middle;\n",
       "    }\n",
       "\n",
       "    .dataframe tbody tr th {\n",
       "        vertical-align: top;\n",
       "    }\n",
       "\n",
       "    .dataframe thead th {\n",
       "        text-align: right;\n",
       "    }\n",
       "</style>\n",
       "<table border=\"1\" class=\"dataframe\">\n",
       "  <thead>\n",
       "    <tr style=\"text-align: right;\">\n",
       "      <th></th>\n",
       "      <th>title</th>\n",
       "      <th>genre</th>\n",
       "      <th>description</th>\n",
       "    </tr>\n",
       "  </thead>\n",
       "  <tbody>\n",
       "    <tr>\n",
       "      <th>1</th>\n",
       "      <td>Oscar et la dame rose (2009)</td>\n",
       "      <td>drama</td>\n",
       "      <td>Listening in to a conversation between his do...</td>\n",
       "    </tr>\n",
       "    <tr>\n",
       "      <th>2</th>\n",
       "      <td>Cupid (1997)</td>\n",
       "      <td>thriller</td>\n",
       "      <td>A brother and sister with a past incestuous r...</td>\n",
       "    </tr>\n",
       "    <tr>\n",
       "      <th>3</th>\n",
       "      <td>Young, Wild and Wonderful (1980)</td>\n",
       "      <td>adult</td>\n",
       "      <td>As the bus empties the students for their fie...</td>\n",
       "    </tr>\n",
       "    <tr>\n",
       "      <th>4</th>\n",
       "      <td>The Secret Sin (1915)</td>\n",
       "      <td>drama</td>\n",
       "      <td>To help their unemployed father make ends mee...</td>\n",
       "    </tr>\n",
       "    <tr>\n",
       "      <th>5</th>\n",
       "      <td>The Unrecovered (2007)</td>\n",
       "      <td>drama</td>\n",
       "      <td>The film's title refers not only to the un-re...</td>\n",
       "    </tr>\n",
       "  </tbody>\n",
       "</table>\n",
       "</div>"
      ],
      "text/plain": [
       "                                title       genre  \\\n",
       "1       Oscar et la dame rose (2009)       drama    \n",
       "2                       Cupid (1997)    thriller    \n",
       "3   Young, Wild and Wonderful (1980)       adult    \n",
       "4              The Secret Sin (1915)       drama    \n",
       "5             The Unrecovered (2007)       drama    \n",
       "\n",
       "                                         description  \n",
       "1   Listening in to a conversation between his do...  \n",
       "2   A brother and sister with a past incestuous r...  \n",
       "3   As the bus empties the students for their fie...  \n",
       "4   To help their unemployed father make ends mee...  \n",
       "5   The film's title refers not only to the un-re...  "
      ]
     },
     "execution_count": 7,
     "metadata": {},
     "output_type": "execute_result"
    }
   ],
   "source": [
    "train_data.head()"
   ]
  },
  {
   "cell_type": "code",
   "execution_count": 8,
   "id": "205ee47b",
   "metadata": {},
   "outputs": [
    {
     "data": {
      "text/plain": [
       "162642"
      ]
     },
     "execution_count": 8,
     "metadata": {},
     "output_type": "execute_result"
    }
   ],
   "source": [
    "train_data.size"
   ]
  },
  {
   "cell_type": "code",
   "execution_count": 9,
   "id": "2e9f1da9",
   "metadata": {},
   "outputs": [
    {
     "data": {
      "text/plain": [
       "(54214, 3)"
      ]
     },
     "execution_count": 9,
     "metadata": {},
     "output_type": "execute_result"
    }
   ],
   "source": [
    "train_data.shape"
   ]
  },
  {
   "cell_type": "code",
   "execution_count": 10,
   "id": "2a68a6c9",
   "metadata": {},
   "outputs": [
    {
     "data": {
      "text/plain": [
       "Index(['title', 'genre', 'description'], dtype='object')"
      ]
     },
     "execution_count": 10,
     "metadata": {},
     "output_type": "execute_result"
    }
   ],
   "source": [
    "train_data.columns"
   ]
  },
  {
   "cell_type": "code",
   "execution_count": 11,
   "id": "aec13586",
   "metadata": {},
   "outputs": [
    {
     "name": "stdout",
     "output_type": "stream",
     "text": [
      "<class 'pandas.core.frame.DataFrame'>\n",
      "Index: 54214 entries, 1 to 54214\n",
      "Data columns (total 3 columns):\n",
      " #   Column       Non-Null Count  Dtype \n",
      "---  ------       --------------  ----- \n",
      " 0   title        54214 non-null  object\n",
      " 1   genre        54214 non-null  object\n",
      " 2   description  54214 non-null  object\n",
      "dtypes: object(3)\n",
      "memory usage: 1.7+ MB\n"
     ]
    }
   ],
   "source": [
    "train_data.info()"
   ]
  },
  {
   "cell_type": "code",
   "execution_count": 12,
   "id": "e3847914",
   "metadata": {},
   "outputs": [
    {
     "data": {
      "text/html": [
       "<div>\n",
       "<style scoped>\n",
       "    .dataframe tbody tr th:only-of-type {\n",
       "        vertical-align: middle;\n",
       "    }\n",
       "\n",
       "    .dataframe tbody tr th {\n",
       "        vertical-align: top;\n",
       "    }\n",
       "\n",
       "    .dataframe thead th {\n",
       "        text-align: right;\n",
       "    }\n",
       "</style>\n",
       "<table border=\"1\" class=\"dataframe\">\n",
       "  <thead>\n",
       "    <tr style=\"text-align: right;\">\n",
       "      <th></th>\n",
       "      <th>title</th>\n",
       "      <th>genre</th>\n",
       "      <th>description</th>\n",
       "    </tr>\n",
       "  </thead>\n",
       "  <tbody>\n",
       "    <tr>\n",
       "      <th>count</th>\n",
       "      <td>54214</td>\n",
       "      <td>54214</td>\n",
       "      <td>54214</td>\n",
       "    </tr>\n",
       "    <tr>\n",
       "      <th>unique</th>\n",
       "      <td>54214</td>\n",
       "      <td>27</td>\n",
       "      <td>54086</td>\n",
       "    </tr>\n",
       "    <tr>\n",
       "      <th>top</th>\n",
       "      <td>Oscar et la dame rose (2009)</td>\n",
       "      <td>drama</td>\n",
       "      <td>Grammy - music award of the American academy ...</td>\n",
       "    </tr>\n",
       "    <tr>\n",
       "      <th>freq</th>\n",
       "      <td>1</td>\n",
       "      <td>13613</td>\n",
       "      <td>12</td>\n",
       "    </tr>\n",
       "  </tbody>\n",
       "</table>\n",
       "</div>"
      ],
      "text/plain": [
       "                                 title    genre  \\\n",
       "count                            54214    54214   \n",
       "unique                           54214       27   \n",
       "top      Oscar et la dame rose (2009)    drama    \n",
       "freq                                 1    13613   \n",
       "\n",
       "                                              description  \n",
       "count                                               54214  \n",
       "unique                                              54086  \n",
       "top      Grammy - music award of the American academy ...  \n",
       "freq                                                   12  "
      ]
     },
     "execution_count": 12,
     "metadata": {},
     "output_type": "execute_result"
    }
   ],
   "source": [
    "train_data.describe()"
   ]
  },
  {
   "cell_type": "code",
   "execution_count": 13,
   "id": "e02262f7",
   "metadata": {},
   "outputs": [
    {
     "data": {
      "text/html": [
       "<div>\n",
       "<style scoped>\n",
       "    .dataframe tbody tr th:only-of-type {\n",
       "        vertical-align: middle;\n",
       "    }\n",
       "\n",
       "    .dataframe tbody tr th {\n",
       "        vertical-align: top;\n",
       "    }\n",
       "\n",
       "    .dataframe thead th {\n",
       "        text-align: right;\n",
       "    }\n",
       "</style>\n",
       "<table border=\"1\" class=\"dataframe\">\n",
       "  <thead>\n",
       "    <tr style=\"text-align: right;\">\n",
       "      <th></th>\n",
       "      <th>title</th>\n",
       "      <th>description</th>\n",
       "    </tr>\n",
       "  </thead>\n",
       "  <tbody>\n",
       "    <tr>\n",
       "      <th>1</th>\n",
       "      <td>Edgar's Lunch (1998)</td>\n",
       "      <td>L.R. Brane loves his life - his car, his apar...</td>\n",
       "    </tr>\n",
       "    <tr>\n",
       "      <th>2</th>\n",
       "      <td>La guerra de papá (1977)</td>\n",
       "      <td>Spain, March 1964: Quico is a very naughty ch...</td>\n",
       "    </tr>\n",
       "    <tr>\n",
       "      <th>3</th>\n",
       "      <td>Off the Beaten Track (2010)</td>\n",
       "      <td>One year in the life of Albin and his family ...</td>\n",
       "    </tr>\n",
       "    <tr>\n",
       "      <th>4</th>\n",
       "      <td>Meu Amigo Hindu (2015)</td>\n",
       "      <td>His father has died, he hasn't spoken with hi...</td>\n",
       "    </tr>\n",
       "    <tr>\n",
       "      <th>5</th>\n",
       "      <td>Er nu zhai (1955)</td>\n",
       "      <td>Before he was known internationally as a mart...</td>\n",
       "    </tr>\n",
       "  </tbody>\n",
       "</table>\n",
       "</div>"
      ],
      "text/plain": [
       "                           title  \\\n",
       "1          Edgar's Lunch (1998)    \n",
       "2      La guerra de papá (1977)    \n",
       "3   Off the Beaten Track (2010)    \n",
       "4        Meu Amigo Hindu (2015)    \n",
       "5             Er nu zhai (1955)    \n",
       "\n",
       "                                         description  \n",
       "1   L.R. Brane loves his life - his car, his apar...  \n",
       "2   Spain, March 1964: Quico is a very naughty ch...  \n",
       "3   One year in the life of Albin and his family ...  \n",
       "4   His father has died, he hasn't spoken with hi...  \n",
       "5   Before he was known internationally as a mart...  "
      ]
     },
     "execution_count": 13,
     "metadata": {},
     "output_type": "execute_result"
    }
   ],
   "source": [
    "test_data.head()"
   ]
  },
  {
   "cell_type": "code",
   "execution_count": 14,
   "id": "db57048d",
   "metadata": {},
   "outputs": [
    {
     "data": {
      "text/plain": [
       "108400"
      ]
     },
     "execution_count": 14,
     "metadata": {},
     "output_type": "execute_result"
    }
   ],
   "source": [
    "test_data.size"
   ]
  },
  {
   "cell_type": "code",
   "execution_count": 15,
   "id": "1d34511d",
   "metadata": {},
   "outputs": [
    {
     "data": {
      "text/plain": [
       "(54200, 2)"
      ]
     },
     "execution_count": 15,
     "metadata": {},
     "output_type": "execute_result"
    }
   ],
   "source": [
    "test_data.shape"
   ]
  },
  {
   "cell_type": "code",
   "execution_count": 16,
   "id": "ad240280",
   "metadata": {},
   "outputs": [
    {
     "data": {
      "text/plain": [
       "Index(['title', 'description'], dtype='object')"
      ]
     },
     "execution_count": 16,
     "metadata": {},
     "output_type": "execute_result"
    }
   ],
   "source": [
    "test_data.columns"
   ]
  },
  {
   "cell_type": "code",
   "execution_count": 17,
   "id": "fb52c6de",
   "metadata": {},
   "outputs": [
    {
     "name": "stdout",
     "output_type": "stream",
     "text": [
      "<class 'pandas.core.frame.DataFrame'>\n",
      "Index: 54200 entries, 1 to 54200\n",
      "Data columns (total 2 columns):\n",
      " #   Column       Non-Null Count  Dtype \n",
      "---  ------       --------------  ----- \n",
      " 0   title        54200 non-null  object\n",
      " 1   description  54200 non-null  object\n",
      "dtypes: object(2)\n",
      "memory usage: 1.2+ MB\n"
     ]
    }
   ],
   "source": [
    "test_data.info()"
   ]
  },
  {
   "cell_type": "code",
   "execution_count": 18,
   "id": "33886f93",
   "metadata": {},
   "outputs": [
    {
     "data": {
      "text/html": [
       "<div>\n",
       "<style scoped>\n",
       "    .dataframe tbody tr th:only-of-type {\n",
       "        vertical-align: middle;\n",
       "    }\n",
       "\n",
       "    .dataframe tbody tr th {\n",
       "        vertical-align: top;\n",
       "    }\n",
       "\n",
       "    .dataframe thead th {\n",
       "        text-align: right;\n",
       "    }\n",
       "</style>\n",
       "<table border=\"1\" class=\"dataframe\">\n",
       "  <thead>\n",
       "    <tr style=\"text-align: right;\">\n",
       "      <th></th>\n",
       "      <th>title</th>\n",
       "      <th>description</th>\n",
       "    </tr>\n",
       "  </thead>\n",
       "  <tbody>\n",
       "    <tr>\n",
       "      <th>count</th>\n",
       "      <td>54200</td>\n",
       "      <td>54200</td>\n",
       "    </tr>\n",
       "    <tr>\n",
       "      <th>unique</th>\n",
       "      <td>54200</td>\n",
       "      <td>54072</td>\n",
       "    </tr>\n",
       "    <tr>\n",
       "      <th>top</th>\n",
       "      <td>Edgar's Lunch (1998)</td>\n",
       "      <td>Grammy - music award of the American academy ...</td>\n",
       "    </tr>\n",
       "    <tr>\n",
       "      <th>freq</th>\n",
       "      <td>1</td>\n",
       "      <td>10</td>\n",
       "    </tr>\n",
       "  </tbody>\n",
       "</table>\n",
       "</div>"
      ],
      "text/plain": [
       "                         title  \\\n",
       "count                    54200   \n",
       "unique                   54200   \n",
       "top      Edgar's Lunch (1998)    \n",
       "freq                         1   \n",
       "\n",
       "                                              description  \n",
       "count                                               54200  \n",
       "unique                                              54072  \n",
       "top      Grammy - music award of the American academy ...  \n",
       "freq                                                   10  "
      ]
     },
     "execution_count": 18,
     "metadata": {},
     "output_type": "execute_result"
    }
   ],
   "source": [
    "test_data.describe()"
   ]
  },
  {
   "cell_type": "code",
   "execution_count": 19,
   "id": "6cef9bab",
   "metadata": {},
   "outputs": [
    {
     "data": {
      "text/plain": [
       "genre\n",
       " drama           13613\n",
       " documentary     13096\n",
       " comedy           7447\n",
       " short            5073\n",
       " horror           2204\n",
       " thriller         1591\n",
       " action           1315\n",
       " western          1032\n",
       " reality-tv        884\n",
       " family            784\n",
       " adventure         775\n",
       " music             731\n",
       " romance           672\n",
       " sci-fi            647\n",
       " adult             590\n",
       " crime             505\n",
       " animation         498\n",
       " sport             432\n",
       " talk-show         391\n",
       " fantasy           323\n",
       " mystery           319\n",
       " musical           277\n",
       " biography         265\n",
       " history           243\n",
       " game-show         194\n",
       " news              181\n",
       " war               132\n",
       "Name: count, dtype: int64"
      ]
     },
     "execution_count": 19,
     "metadata": {},
     "output_type": "execute_result"
    }
   ],
   "source": [
    "train_data.genre.value_counts()"
   ]
  },
  {
   "cell_type": "code",
   "execution_count": 20,
   "id": "f594fc88",
   "metadata": {},
   "outputs": [
    {
     "data": {
      "text/plain": [
       "title          0\n",
       "genre          0\n",
       "description    0\n",
       "dtype: int64"
      ]
     },
     "execution_count": 20,
     "metadata": {},
     "output_type": "execute_result"
    }
   ],
   "source": [
    "train_data.isnull().sum()"
   ]
  },
  {
   "cell_type": "code",
   "execution_count": 21,
   "id": "75eb9532",
   "metadata": {
    "scrolled": true
   },
   "outputs": [
    {
     "name": "stdout",
     "output_type": "stream",
     "text": [
      "shape before drop nulls (54214, 3)\n",
      "shape after drop nulls (54214, 3)\n"
     ]
    }
   ],
   "source": [
    "print(\"shape before drop nulls\",train_data.shape)\n",
    "# Droping the redundant data\n",
    "train_data = train_data.drop_duplicates()\n",
    "print(\"shape after drop nulls\",train_data.shape)"
   ]
  },
  {
   "cell_type": "markdown",
   "id": "16935522",
   "metadata": {},
   "source": [
    "### DATA VISUALIZATION"
   ]
  },
  {
   "cell_type": "code",
   "execution_count": 22,
   "id": "0f274e36",
   "metadata": {},
   "outputs": [
    {
     "data": {
      "image/png": "[encoded data removed]",
      "text/plain": [
       "<Figure size 3000x1000 with 1 Axes>"
      ]
     },
     "metadata": {},
     "output_type": "display_data"
    }
   ],
   "source": [
    "plt.figure(figsize=(30,10))\n",
    "counts = train_data.genre.value_counts()\n",
    "sns.barplot(x=counts.index, y=counts)\n",
    "plt.xlabel('Genre')\n",
    "plt.ylabel('Count')\n",
    "plt.xticks(rotation=90);\n"
   ]
  },
  {
   "cell_type": "code",
   "execution_count": 23,
   "id": "eadc2f5e",
   "metadata": {},
   "outputs": [
    {
     "data": {
      "image/png": "[encoded data removed]",
      "text/plain": [
       "<Figure size 1000x1000 with 1 Axes>"
      ]
     },
     "metadata": {},
     "output_type": "display_data"
    }
   ],
   "source": [
    "plt.figure(figsize=(10,10))\n",
    "sns.countplot(data=train_data,y=\"genre\",order=\n",
    "              train_data[\"genre\"].value_counts().index,palette=\"YlGnBu\")\n",
    "plt.show()"
   ]
  },
  {
   "cell_type": "markdown",
   "id": "7b95ed34",
   "metadata": {},
   "source": [
    "### TEXT CLEANING"
   ]
  },
  {
   "cell_type": "code",
   "execution_count": 24,
   "id": "c822e810",
   "metadata": {},
   "outputs": [],
   "source": [
    "stop_words = set(stopwords.words('english')) # stop words\n",
    "def clean_data(text):\n",
    "    text = text.lower()\n",
    "    text = re.sub(r'@\\S+','',text)                       # [1] remove mentions\n",
    "    text = re.sub(r'http\\S+', '', text)                  # [2] remove urls\n",
    "    text = re.sub(r'[\\w\\.-]+@[\\w\\.-]+',\"\",text)          # [3] remove emails\n",
    "    text = re.sub(r\"[^a-zA-Z+']\", ' ', text)             # [4] keep only english chars / remove numbers\n",
    "    text = re.sub(r'\\s+[a-zA-Z]\\s+', ' ', text+' ')      # [5] remove single chars\n",
    "    text = re.sub(r'pic.\\S+', '',text)                   # [6]\n",
    "    text = re.sub(r'#', \"\", text)                        # [7] remove hashtags\n",
    "    text = re.sub(r\"_\", \"  \", text)                      # [8] remove hashtags\n",
    "    text = re.sub('\\n',\" . \",text)                       # [9] remove new lines\n",
    "    text = re.sub('\\[[^]]*\\]','',text)                   # [10] remove square prackets\n",
    "    text = \"\".join([char for char in text if char not in string.punctuation]) # [11] remove punctuations\n",
    "    text= re.sub(\"\\s[\\s]+\", \" \",text).strip()            # [12] remove repeated/leading/trailing spaces\n",
    "    tokens = word_tokenize(text)                         # [13] Tokenize\n",
    "    text = \" \".join([word for word in tokens if word not in stop_words and len(word) > 2]) # [14] remove stop words\n",
    "    \n",
    "    return text"
   ]
  },
  {
   "cell_type": "markdown",
   "id": "3707c3c2",
   "metadata": {},
   "source": [
    "### TRAINING AND TESTING"
   ]
  },
  {
   "cell_type": "code",
   "execution_count": 25,
   "id": "7db0ce39",
   "metadata": {},
   "outputs": [],
   "source": [
    "train_data['description_cleaned'] = train_data['description'].apply(clean_data)\n",
    "test_data['description_cleaned'] = test_data['description'].apply(clean_data)"
   ]
  },
  {
   "cell_type": "code",
   "execution_count": 26,
   "id": "ffed77f3",
   "metadata": {},
   "outputs": [],
   "source": [
    "st = PorterStemmer()\n",
    "train_data['description_cleaned'] = train_data['description_cleaned'].apply(\n",
    "    lambda x: ' '.join([st.stem(word) for word in x.split()]))\n",
    "\n",
    "test_data['description_cleaned'] = test_data['description_cleaned'].apply(\n",
    "    lambda x: ' '.join([st.stem(word) for word in x.split()]))"
   ]
  },
  {
   "cell_type": "code",
   "execution_count": 27,
   "id": "3d50db55",
   "metadata": {},
   "outputs": [
    {
     "data": {
      "text/html": [
       "<div>\n",
       "<style scoped>\n",
       "    .dataframe tbody tr th:only-of-type {\n",
       "        vertical-align: middle;\n",
       "    }\n",
       "\n",
       "    .dataframe tbody tr th {\n",
       "        vertical-align: top;\n",
       "    }\n",
       "\n",
       "    .dataframe thead th {\n",
       "        text-align: right;\n",
       "    }\n",
       "</style>\n",
       "<table border=\"1\" class=\"dataframe\">\n",
       "  <thead>\n",
       "    <tr style=\"text-align: right;\">\n",
       "      <th></th>\n",
       "      <th>title</th>\n",
       "      <th>genre</th>\n",
       "      <th>description</th>\n",
       "      <th>description_cleaned</th>\n",
       "      <th>length</th>\n",
       "      <th>length_cleaned</th>\n",
       "    </tr>\n",
       "  </thead>\n",
       "  <tbody>\n",
       "    <tr>\n",
       "      <th>1</th>\n",
       "      <td>Oscar et la dame rose (2009)</td>\n",
       "      <td>drama</td>\n",
       "      <td>Listening in to a conversation between his do...</td>\n",
       "      <td>listen convers doctor parent year old oscar le...</td>\n",
       "      <td>546</td>\n",
       "      <td>339</td>\n",
       "    </tr>\n",
       "    <tr>\n",
       "      <th>2</th>\n",
       "      <td>Cupid (1997)</td>\n",
       "      <td>thriller</td>\n",
       "      <td>A brother and sister with a past incestuous r...</td>\n",
       "      <td>brother sister past incestu relationship curre...</td>\n",
       "      <td>184</td>\n",
       "      <td>111</td>\n",
       "    </tr>\n",
       "    <tr>\n",
       "      <th>3</th>\n",
       "      <td>Young, Wild and Wonderful (1980)</td>\n",
       "      <td>adult</td>\n",
       "      <td>As the bus empties the students for their fie...</td>\n",
       "      <td>bu empti student field trip museum natur histo...</td>\n",
       "      <td>650</td>\n",
       "      <td>344</td>\n",
       "    </tr>\n",
       "    <tr>\n",
       "      <th>4</th>\n",
       "      <td>The Secret Sin (1915)</td>\n",
       "      <td>drama</td>\n",
       "      <td>To help their unemployed father make ends mee...</td>\n",
       "      <td>help unemploy father make end meet edith twin ...</td>\n",
       "      <td>1082</td>\n",
       "      <td>678</td>\n",
       "    </tr>\n",
       "    <tr>\n",
       "      <th>5</th>\n",
       "      <td>The Unrecovered (2007)</td>\n",
       "      <td>drama</td>\n",
       "      <td>The film's title refers not only to the un-re...</td>\n",
       "      <td>film titl refer recov bodi ground zero also st...</td>\n",
       "      <td>625</td>\n",
       "      <td>347</td>\n",
       "    </tr>\n",
       "  </tbody>\n",
       "</table>\n",
       "</div>"
      ],
      "text/plain": [
       "                                title       genre  \\\n",
       "1       Oscar et la dame rose (2009)       drama    \n",
       "2                       Cupid (1997)    thriller    \n",
       "3   Young, Wild and Wonderful (1980)       adult    \n",
       "4              The Secret Sin (1915)       drama    \n",
       "5             The Unrecovered (2007)       drama    \n",
       "\n",
       "                                         description  \\\n",
       "1   Listening in to a conversation between his do...   \n",
       "2   A brother and sister with a past incestuous r...   \n",
       "3   As the bus empties the students for their fie...   \n",
       "4   To help their unemployed father make ends mee...   \n",
       "5   The film's title refers not only to the un-re...   \n",
       "\n",
       "                                 description_cleaned  length  length_cleaned  \n",
       "1  listen convers doctor parent year old oscar le...     546             339  \n",
       "2  brother sister past incestu relationship curre...     184             111  \n",
       "3  bu empti student field trip museum natur histo...     650             344  \n",
       "4  help unemploy father make end meet edith twin ...    1082             678  \n",
       "5  film titl refer recov bodi ground zero also st...     625             347  "
      ]
     },
     "execution_count": 27,
     "metadata": {},
     "output_type": "execute_result"
    }
   ],
   "source": [
    "train_data['length']=train_data['description'].apply(len)\n",
    "train_data['length_cleaned']=train_data['description_cleaned'].apply(len)\n",
    "train_data.head()"
   ]
  },
  {
   "cell_type": "code",
   "execution_count": 28,
   "id": "32816141",
   "metadata": {},
   "outputs": [
    {
     "name": "stdout",
     "output_type": "stream",
     "text": [
      "Average Length of Text Before Cleaning:  600.4524292618142\n",
      "Average Length of Text After Cleaning:  360.2900542295348\n"
     ]
    }
   ],
   "source": [
    "print(\"Average Length of Text Before Cleaning: \", train_data['length'].mean())\n",
    "print(\"Average Length of Text After Cleaning: \", train_data['length_cleaned'].mean())"
   ]
  },
  {
   "cell_type": "code",
   "execution_count": 29,
   "id": "31c6690b",
   "metadata": {},
   "outputs": [
    {
     "data": {
      "image/png": "[encoded data removed]",
      "text/plain": [
       "<Figure size 800x700 with 1 Axes>"
      ]
     },
     "metadata": {},
     "output_type": "display_data"
    }
   ],
   "source": [
    "plt.figure(figsize=(8, 7))\n",
    "\n",
    "sns.histplot(data=train_data, x='length', bins=20, kde=True, color='blue')\n",
    "\n",
    "plt.xlabel('Length', fontsize=14, fontweight='bold')\n",
    "plt.ylabel('Frequency', fontsize=14, fontweight='bold')\n",
    "plt.title('Distribution of Lengths', fontsize=16, fontweight='bold')\n",
    "\n",
    "plt.show()"
   ]
  },
  {
   "cell_type": "code",
   "execution_count": 30,
   "id": "8e9732b6",
   "metadata": {},
   "outputs": [],
   "source": [
    "def get_top_n_bigram(corpus, n=None):\n",
    "    vec = CV(ngram_range=(2, 2)).fit(corpus)\n",
    "    bag_of_words = vec.transform(corpus)\n",
    "    sum_words = bag_of_words.sum(axis=0) \n",
    "    words_freq = [(word, sum_words[0, idx]) for word, idx in vec.vocabulary_.items()]\n",
    "    words_freq =sorted(words_freq, key = lambda x: x[1], reverse=True)\n",
    "    return words_freq[:n]"
   ]
  },
  {
   "cell_type": "code",
   "execution_count": 31,
   "id": "61a0e44d",
   "metadata": {},
   "outputs": [
    {
     "data": {
      "image/png": "[encoded data removed]",
      "text/plain": [
       "<Figure size 1000x600 with 1 Axes>"
      ]
     },
     "metadata": {},
     "output_type": "display_data"
    }
   ],
   "source": [
    "common_words = get_top_n_bigram(train_data['description_cleaned'], 10)\n",
    "common_words_df = pd.DataFrame(common_words,columns=['word','freq'])\n",
    "plt.figure(figsize=(10, 6))\n",
    "ax = sns.barplot(x='freq', y='word', data=common_words_df,facecolor='blue',linewidth=3,edgecolor=sns.color_palette(\"ch:start=3, rot=.1\",10))\n",
    "\n",
    "plt.title(\"Top 10 bigrams\",font='Serif')\n",
    "plt.xlabel(\"Frequency\", fontsize=10)\n",
    "plt.yticks(fontsize=13)\n",
    "plt.xticks(rotation=45, fontsize=10)\n",
    "plt.ylabel(\"\");"
   ]
  },
  {
   "cell_type": "code",
   "execution_count": 32,
   "id": "df069ce1",
   "metadata": {},
   "outputs": [
    {
     "data": {
      "text/html": [
       "<div>\n",
       "<style scoped>\n",
       "    .dataframe tbody tr th:only-of-type {\n",
       "        vertical-align: middle;\n",
       "    }\n",
       "\n",
       "    .dataframe tbody tr th {\n",
       "        vertical-align: top;\n",
       "    }\n",
       "\n",
       "    .dataframe thead th {\n",
       "        text-align: right;\n",
       "    }\n",
       "</style>\n",
       "<table border=\"1\" class=\"dataframe\">\n",
       "  <thead>\n",
       "    <tr style=\"text-align: right;\">\n",
       "      <th></th>\n",
       "      <th>description_cleaned</th>\n",
       "      <th>genre</th>\n",
       "    </tr>\n",
       "  </thead>\n",
       "  <tbody>\n",
       "    <tr>\n",
       "      <th>1</th>\n",
       "      <td>listen convers doctor parent year old oscar le...</td>\n",
       "      <td>8</td>\n",
       "    </tr>\n",
       "    <tr>\n",
       "      <th>2</th>\n",
       "      <td>brother sister past incestu relationship curre...</td>\n",
       "      <td>24</td>\n",
       "    </tr>\n",
       "    <tr>\n",
       "      <th>3</th>\n",
       "      <td>bu empti student field trip museum natur histo...</td>\n",
       "      <td>1</td>\n",
       "    </tr>\n",
       "    <tr>\n",
       "      <th>4</th>\n",
       "      <td>help unemploy father make end meet edith twin ...</td>\n",
       "      <td>8</td>\n",
       "    </tr>\n",
       "    <tr>\n",
       "      <th>5</th>\n",
       "      <td>film titl refer recov bodi ground zero also st...</td>\n",
       "      <td>8</td>\n",
       "    </tr>\n",
       "    <tr>\n",
       "      <th>6</th>\n",
       "      <td>qualiti control consist seri singl take shot f...</td>\n",
       "      <td>7</td>\n",
       "    </tr>\n",
       "    <tr>\n",
       "      <th>7</th>\n",
       "      <td>tough econom time max joey run idea discov sen...</td>\n",
       "      <td>5</td>\n",
       "    </tr>\n",
       "    <tr>\n",
       "      <th>8</th>\n",
       "      <td>ron petri keanu reev troubl teen whose life ha...</td>\n",
       "      <td>6</td>\n",
       "    </tr>\n",
       "    <tr>\n",
       "      <th>9</th>\n",
       "      <td>sudden calamit event caus great loss life dama...</td>\n",
       "      <td>18</td>\n",
       "    </tr>\n",
       "    <tr>\n",
       "      <th>10</th>\n",
       "      <td>four high school student embark terrifi journe...</td>\n",
       "      <td>13</td>\n",
       "    </tr>\n",
       "  </tbody>\n",
       "</table>\n",
       "</div>"
      ],
      "text/plain": [
       "                                  description_cleaned  genre\n",
       "1   listen convers doctor parent year old oscar le...      8\n",
       "2   brother sister past incestu relationship curre...     24\n",
       "3   bu empti student field trip museum natur histo...      1\n",
       "4   help unemploy father make end meet edith twin ...      8\n",
       "5   film titl refer recov bodi ground zero also st...      8\n",
       "6   qualiti control consist seri singl take shot f...      7\n",
       "7   tough econom time max joey run idea discov sen...      5\n",
       "8   ron petri keanu reev troubl teen whose life ha...      6\n",
       "9   sudden calamit event caus great loss life dama...     18\n",
       "10  four high school student embark terrifi journe...     13"
      ]
     },
     "execution_count": 32,
     "metadata": {},
     "output_type": "execute_result"
    }
   ],
   "source": [
    "le = LabelEncoder()\n",
    "train_data['genre'] = le.fit_transform(train_data['genre'].values)\n",
    "\n",
    "# keep only relevent columns\n",
    "train_df = train_data.loc[:,['description_cleaned', 'genre']]\n",
    "test_df = test_data.loc[:,['description_cleaned', 'title']]\n",
    "train_df.head(10)"
   ]
  },
  {
   "cell_type": "code",
   "execution_count": 33,
   "id": "8394fd70",
   "metadata": {},
   "outputs": [
    {
     "name": "stdout",
     "output_type": "stream",
     "text": [
      "Split data into train and eval sets\n",
      "Trani Set\t: 43371\n",
      "Validation Set\t: 10843\n"
     ]
    }
   ],
   "source": [
    "train_set , val_set , train_label , val_label = train_test_split(train_df['description_cleaned'] , train_data['genre'] , test_size=0.2 , shuffle=True , random_state = 42)\n",
    "\n",
    "print(f'Split data into train and eval sets')\n",
    "print(f'Trani Set\\t: {len(train_set)}\\nValidation Set\\t: {len(val_set)}')"
   ]
  },
  {
   "cell_type": "code",
   "execution_count": 34,
   "id": "75c94822",
   "metadata": {},
   "outputs": [],
   "source": [
    "# using TF-IDF\n",
    "vectorize = TfidfVectorizer(stop_words='english', max_features=100000)\n",
    "train_set_tfidf = vectorize.fit_transform(train_set)\n",
    "val_set_tfidf = vectorize.transform(val_set)"
   ]
  },
  {
   "cell_type": "code",
   "execution_count": 35,
   "id": "8477ac03",
   "metadata": {
    "scrolled": false
   },
   "outputs": [
    {
     "name": "stdout",
     "output_type": "stream",
     "text": [
      "              precision    recall  f1-score   support\n",
      "\n",
      "           0       0.52      0.28      0.37       263\n",
      "           1       0.82      0.29      0.42       112\n",
      "           2       0.40      0.12      0.19       139\n",
      "           3       0.38      0.03      0.05       104\n",
      "           4       0.00      0.00      0.00        61\n",
      "           5       0.52      0.58      0.55      1443\n",
      "           6       0.20      0.02      0.03       107\n",
      "           7       0.66      0.84      0.74      2659\n",
      "           8       0.53      0.79      0.64      2697\n",
      "           9       0.42      0.09      0.15       150\n",
      "          10       0.00      0.00      0.00        74\n",
      "          11       0.91      0.50      0.65        40\n",
      "          12       0.00      0.00      0.00        45\n",
      "          13       0.66      0.57      0.61       431\n",
      "          14       0.67      0.46      0.55       144\n",
      "          15       0.00      0.00      0.00        50\n",
      "          16       0.00      0.00      0.00        56\n",
      "          17       0.00      0.00      0.00        34\n",
      "          18       0.52      0.15      0.23       192\n",
      "          19       0.50      0.01      0.01       151\n",
      "          20       0.64      0.21      0.32       143\n",
      "          21       0.50      0.29      0.37      1045\n",
      "          22       0.61      0.25      0.35        93\n",
      "          23       0.67      0.17      0.27        81\n",
      "          24       0.37      0.12      0.18       309\n",
      "          25       0.00      0.00      0.00        20\n",
      "          26       0.95      0.70      0.80       200\n",
      "\n",
      "    accuracy                           0.58     10843\n",
      "   macro avg       0.42      0.24      0.28     10843\n",
      "weighted avg       0.55      0.58      0.53     10843\n",
      "\n",
      "Logistic Regression accuracy is: 57.84%\n"
     ]
    }
   ],
   "source": [
    "# LOGISTIC REGRESSION MODEL\n",
    "LR_model = LogisticRegression()\n",
    "LR_model.fit(train_set_tfidf, train_label)\n",
    "predict_LR = LR_model.predict(val_set_tfidf)\n",
    "print(classification_report(val_label, predict_LR))\n",
    "LR_accuracy = accuracy_score(predict_LR,val_label)\n",
    "print('Logistic Regression accuracy is: {:.2f}%'.format(LR_accuracy*100))"
   ]
  },
  {
   "cell_type": "code",
   "execution_count": 36,
   "id": "8cc6848c",
   "metadata": {},
   "outputs": [
    {
     "name": "stdout",
     "output_type": "stream",
     "text": [
      "              precision    recall  f1-score   support\n",
      "\n",
      "           0       0.00      0.00      0.00       263\n",
      "           1       0.00      0.00      0.00       112\n",
      "           2       0.00      0.00      0.00       139\n",
      "           3       0.00      0.00      0.00       104\n",
      "           4       0.00      0.00      0.00        61\n",
      "           5       0.00      0.00      0.00      1443\n",
      "           6       0.00      0.00      0.00       107\n",
      "           7       0.82      0.31      0.45      2659\n",
      "           8       0.27      0.99      0.43      2697\n",
      "           9       0.00      0.00      0.00       150\n",
      "          10       0.00      0.00      0.00        74\n",
      "          11       0.00      0.00      0.00        40\n",
      "          12       0.00      0.00      0.00        45\n",
      "          13       0.00      0.00      0.00       431\n",
      "          14       0.00      0.00      0.00       144\n",
      "          15       0.00      0.00      0.00        50\n",
      "          16       0.00      0.00      0.00        56\n",
      "          17       0.00      0.00      0.00        34\n",
      "          18       0.00      0.00      0.00       192\n",
      "          19       0.00      0.00      0.00       151\n",
      "          20       0.00      0.00      0.00       143\n",
      "          21       0.00      0.00      0.00      1045\n",
      "          22       0.00      0.00      0.00        93\n",
      "          23       0.00      0.00      0.00        81\n",
      "          24       0.00      0.00      0.00       309\n",
      "          25       0.00      0.00      0.00        20\n",
      "          26       0.00      0.00      0.00       200\n",
      "\n",
      "    accuracy                           0.32     10843\n",
      "   macro avg       0.04      0.05      0.03     10843\n",
      "weighted avg       0.27      0.32      0.22     10843\n",
      "\n",
      "ID3 model accuracy is: 32.30%\n"
     ]
    }
   ],
   "source": [
    "# DECISION TREE MODEL\n",
    "DT = DecisionTreeClassifier(max_depth=(1), random_state=0)\n",
    "DT.fit(train_set_tfidf, train_label)\n",
    "predict_ID3 = DT.predict(val_set_tfidf)\n",
    "print(classification_report(val_label, predict_ID3))\n",
    "ID3_accuracy = accuracy_score(predict_ID3,val_label)\n",
    "print('ID3 model accuracy is: {:.2f}%'.format(ID3_accuracy*100))"
   ]
  },
  {
   "cell_type": "code",
   "execution_count": 37,
   "id": "0e91ef67",
   "metadata": {},
   "outputs": [
    {
     "name": "stdout",
     "output_type": "stream",
     "text": [
      "              precision    recall  f1-score   support\n",
      "\n",
      "           0       0.00      0.00      0.00       263\n",
      "           1       0.00      0.00      0.00       112\n",
      "           2       0.00      0.00      0.00       139\n",
      "           3       0.00      0.00      0.00       104\n",
      "           4       0.00      0.00      0.00        61\n",
      "           5       0.66      0.05      0.09      1443\n",
      "           6       0.00      0.00      0.00       107\n",
      "           7       0.51      0.89      0.65      2659\n",
      "           8       0.38      0.87      0.53      2697\n",
      "           9       0.00      0.00      0.00       150\n",
      "          10       0.00      0.00      0.00        74\n",
      "          11       0.00      0.00      0.00        40\n",
      "          12       0.00      0.00      0.00        45\n",
      "          13       0.00      0.00      0.00       431\n",
      "          14       0.00      0.00      0.00       144\n",
      "          15       0.00      0.00      0.00        50\n",
      "          16       0.00      0.00      0.00        56\n",
      "          17       0.00      0.00      0.00        34\n",
      "          18       0.00      0.00      0.00       192\n",
      "          19       0.00      0.00      0.00       151\n",
      "          20       0.00      0.00      0.00       143\n",
      "          21       0.00      0.00      0.00      1045\n",
      "          22       0.00      0.00      0.00        93\n",
      "          23       0.00      0.00      0.00        81\n",
      "          24       0.00      0.00      0.00       309\n",
      "          25       0.00      0.00      0.00        20\n",
      "          26       0.00      0.00      0.00       200\n",
      "\n",
      "    accuracy                           0.44     10843\n",
      "   macro avg       0.06      0.07      0.05     10843\n",
      "weighted avg       0.31      0.44      0.30     10843\n",
      "\n",
      "Naive Bayes model accuracy is: 44.10%\n"
     ]
    }
   ],
   "source": [
    "# MULTINOMIAL NAIVE BAYES MODEL\n",
    "NB_model = MultinomialNB()\n",
    "NB_model.fit(train_set_tfidf, train_label)\n",
    "y_pred_naive = NB_model.predict(val_set_tfidf)\n",
    "print(classification_report(val_label, y_pred_naive))\n",
    "naive_accuracy = accuracy_score(y_pred_naive,val_label)\n",
    "print('Naive Bayes model accuracy is: {:.2f}%'.format(naive_accuracy*100))"
   ]
  },
  {
   "cell_type": "code",
   "execution_count": 38,
   "id": "5bba7d72",
   "metadata": {},
   "outputs": [
    {
     "name": "stdout",
     "output_type": "stream",
     "text": [
      "              precision    recall  f1-score   support\n",
      "\n",
      "           0       0.46      0.33      0.39       263\n",
      "           1       0.68      0.44      0.53       112\n",
      "           2       0.39      0.21      0.27       139\n",
      "           3       0.38      0.13      0.20       104\n",
      "           4       0.00      0.00      0.00        61\n",
      "           5       0.53      0.58      0.55      1443\n",
      "           6       0.22      0.06      0.09       107\n",
      "           7       0.68      0.80      0.73      2659\n",
      "           8       0.55      0.71      0.62      2697\n",
      "           9       0.37      0.15      0.22       150\n",
      "          10       0.40      0.05      0.10        74\n",
      "          11       0.83      0.62      0.71        40\n",
      "          12       0.25      0.02      0.04        45\n",
      "          13       0.60      0.63      0.61       431\n",
      "          14       0.55      0.53      0.54       144\n",
      "          15       0.27      0.06      0.10        50\n",
      "          16       0.00      0.00      0.00        56\n",
      "          17       0.29      0.06      0.10        34\n",
      "          18       0.49      0.29      0.36       192\n",
      "          19       0.28      0.06      0.10       151\n",
      "          20       0.49      0.34      0.40       143\n",
      "          21       0.43      0.34      0.38      1045\n",
      "          22       0.61      0.44      0.51        93\n",
      "          23       0.55      0.27      0.36        81\n",
      "          24       0.26      0.16      0.20       309\n",
      "          25       0.50      0.05      0.09        20\n",
      "          26       0.85      0.83      0.84       200\n",
      "\n",
      "    accuracy                           0.57     10843\n",
      "   macro avg       0.44      0.30      0.33     10843\n",
      "weighted avg       0.54      0.57      0.55     10843\n",
      "\n",
      "SVC model accuracy is: 57.13%\n"
     ]
    }
   ],
   "source": [
    "# SUPPORT VECTOR MACHINE MODEL\n",
    "from sklearn.svm import LinearSVC\n",
    "svm_model = LinearSVC()\n",
    "svm_model.fit(train_set_tfidf, train_label)\n",
    "predict = svm_model.predict(val_set_tfidf)\n",
    "\n",
    "print(classification_report(val_label, predict))\n",
    "svm_accuracy = accuracy_score(predict,val_label)\n",
    "print('SVC model accuracy is: {:.2f}%'.format(svm_accuracy*100))"
   ]
  },
  {
   "cell_type": "code",
   "execution_count": 39,
   "id": "5a4f3cac",
   "metadata": {},
   "outputs": [
    {
     "data": {
      "text/html": [
       "<div>\n",
       "<style scoped>\n",
       "    .dataframe tbody tr th:only-of-type {\n",
       "        vertical-align: middle;\n",
       "    }\n",
       "\n",
       "    .dataframe tbody tr th {\n",
       "        vertical-align: top;\n",
       "    }\n",
       "\n",
       "    .dataframe thead th {\n",
       "        text-align: right;\n",
       "    }\n",
       "</style>\n",
       "<table border=\"1\" class=\"dataframe\">\n",
       "  <thead>\n",
       "    <tr style=\"text-align: right;\">\n",
       "      <th></th>\n",
       "      <th>Algorithm</th>\n",
       "      <th>Accuracy</th>\n",
       "    </tr>\n",
       "  </thead>\n",
       "  <tbody>\n",
       "    <tr>\n",
       "      <th>0</th>\n",
       "      <td>LogisticRegression</td>\n",
       "      <td>0.578438</td>\n",
       "    </tr>\n",
       "    <tr>\n",
       "      <th>1</th>\n",
       "      <td>Decision_Tree</td>\n",
       "      <td>0.441022</td>\n",
       "    </tr>\n",
       "    <tr>\n",
       "      <th>2</th>\n",
       "      <td>MultinomialNB</td>\n",
       "      <td>0.322973</td>\n",
       "    </tr>\n",
       "    <tr>\n",
       "      <th>3</th>\n",
       "      <td>SVC</td>\n",
       "      <td>0.571336</td>\n",
       "    </tr>\n",
       "  </tbody>\n",
       "</table>\n",
       "</div>"
      ],
      "text/plain": [
       "            Algorithm  Accuracy\n",
       "0  LogisticRegression  0.578438\n",
       "1       Decision_Tree  0.441022\n",
       "2       MultinomialNB  0.322973\n",
       "3                 SVC  0.571336"
      ]
     },
     "execution_count": 39,
     "metadata": {},
     "output_type": "execute_result"
    }
   ],
   "source": [
    "columns=['LogisticRegression', 'Decision_Tree', 'MultinomialNB', 'SVC']\n",
    "accuracy= [LR_accuracy, naive_accuracy, ID3_accuracy, svm_accuracy]\n",
    "\n",
    "FinalResult=pd.DataFrame({'Algorithm':columns, 'Accuracy':accuracy})\n",
    "\n",
    "FinalResult"
   ]
  },
  {
   "cell_type": "code",
   "execution_count": 40,
   "id": "7bc15fff",
   "metadata": {},
   "outputs": [
    {
     "data": {
      "image/png": "[encoded data removed]",
      "text/plain": [
       "<Figure size 1000x500 with 1 Axes>"
      ]
     },
     "metadata": {},
     "output_type": "display_data"
    }
   ],
   "source": [
    "fig,ax=plt.subplots(figsize=(10,5))\n",
    "plt.plot(FinalResult.Algorithm,accuracy,label=\"Accuracy\")\n",
    "plt.legend()\n",
    "plt.show()"
   ]
  }
 ],
 "metadata": {
  "kernelspec": {
   "display_name": "Python 3 (ipykernel)",
   "language": "python",
   "name": "python3"
  },
  "language_info": {
   "codemirror_mode": {
    "name": "ipython",
    "version": 3
   },
   "file_extension": ".py",
   "mimetype": "text/x-python",
   "name": "python",
   "nbconvert_exporter": "python",
   "pygments_lexer": "ipython3",
   "version": "3.11.5"
  }
 },
 "nbformat": 4,
 "nbformat_minor": 5
}
